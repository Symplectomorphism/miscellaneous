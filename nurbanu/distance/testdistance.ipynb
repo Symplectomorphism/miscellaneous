{
 "cells": [
  {
   "cell_type": "code",
   "execution_count": 1,
   "metadata": {},
   "outputs": [],
   "source": [
    "import numpy as np\n",
    "import matplotlib.pyplot as plt"
   ]
  },
  {
   "cell_type": "code",
   "execution_count": 37,
   "metadata": {},
   "outputs": [],
   "source": [
    "\"\"\"Define the distance function here: d: R^n x R^n -> R,\n",
    "The distance function must satisfy the following:\n",
    "1. Positivity: d(x, y) >= 0 for all x, y in R^n s.t. x != y, otherwise, it is zero.\n",
    "2. Symmetric: d(x, y) = d(y, x) for all x, y in R^n.\n",
    "3. Triangle inequality: d(x, z) <= d(x, y) + d(y, z) for all x, y, z in R^n.\n",
    "\"\"\"\n",
    "\n",
    "def dist(x, y):\n",
    "    # return np.linalg.norm(x - y) # Example: Euclidean distance\n",
    "    xsq = x**2\n",
    "    ysq = y**2\n",
    "    sum_sq = xsq + ysq\n",
    "    diff_sq = xsq - ysq\n",
    "    return np.sum( np.abs(diff_sq) / sum_sq )\n",
    "\n",
    "def notdist(x, y):\n",
    "    return np.abs(np.sqrt(np.sum(x**2)) - np.sqrt(np.sum(y**2))) # Example: Not a distance"
   ]
  },
  {
   "cell_type": "code",
   "execution_count": 38,
   "metadata": {},
   "outputs": [],
   "source": [
    "N = 100  # Number of points\n",
    "lb, ub = -1, 1  # Lower and upper bounds for the points\n",
    "v, w = np.random.uniform(lb, ub, (N, 2)), np.random.uniform(lb, ub, (N, 2))"
   ]
  },
  {
   "cell_type": "code",
   "execution_count": 39,
   "metadata": {},
   "outputs": [],
   "source": [
    "# Test if the distance function is valid\n",
    "def test_dist(dist, v, w):\n",
    "    \"\"\"\n",
    "    Input:\n",
    "    dist: distance function\n",
    "    v: array of points\n",
    "    w: array of points\n",
    "\n",
    "    Output:\n",
    "    None: if the distance function is valid\n",
    "    Will return an AssertionError if the distance function is not valid\n",
    "    \"\"\"\n",
    "    for i in range(N):\n",
    "        for j in range(N):\n",
    "            if i != j:\n",
    "                assert dist(v[i], v[j]) >= 0, \"Distance is negative\"\n",
    "                assert dist(v[i], v[j]) == dist(v[j], v[i]), \"Distance is not symmetric\"\n",
    "                for k in range(N):\n",
    "                    if k != i and k != j:\n",
    "                        assert dist(v[i], v[k]) <= dist(v[i], v[j]) + dist(v[j], v[k]), \"Triangle inequality violated\""
   ]
  },
  {
   "cell_type": "code",
   "execution_count": 40,
   "metadata": {},
   "outputs": [],
   "source": [
    "test_dist(dist, v, w)"
   ]
  },
  {
   "cell_type": "code",
   "execution_count": 22,
   "metadata": {},
   "outputs": [
    {
     "ename": "AssertionError",
     "evalue": "Triangle inequality violated",
     "output_type": "error",
     "traceback": [
      "\u001b[0;31m---------------------------------------------------------------------------\u001b[0m",
      "\u001b[0;31mAssertionError\u001b[0m                            Traceback (most recent call last)",
      "Cell \u001b[0;32mIn[22], line 1\u001b[0m\n\u001b[0;32m----> 1\u001b[0m \u001b[43mtest_dist\u001b[49m\u001b[43m(\u001b[49m\u001b[43mnotdist\u001b[49m\u001b[43m,\u001b[49m\u001b[43m \u001b[49m\u001b[43mv\u001b[49m\u001b[43m,\u001b[49m\u001b[43m \u001b[49m\u001b[43mw\u001b[49m\u001b[43m)\u001b[49m\n",
      "Cell \u001b[0;32mIn[20], line 10\u001b[0m, in \u001b[0;36mtest_dist\u001b[0;34m(dist, v, w)\u001b[0m\n\u001b[1;32m      8\u001b[0m \u001b[38;5;28;01mfor\u001b[39;00m k \u001b[38;5;129;01min\u001b[39;00m \u001b[38;5;28mrange\u001b[39m(N):\n\u001b[1;32m      9\u001b[0m     \u001b[38;5;28;01mif\u001b[39;00m k \u001b[38;5;241m!=\u001b[39m i \u001b[38;5;129;01mand\u001b[39;00m k \u001b[38;5;241m!=\u001b[39m j:\n\u001b[0;32m---> 10\u001b[0m         \u001b[38;5;28;01massert\u001b[39;00m dist(v[i], v[k]) \u001b[38;5;241m<\u001b[39m\u001b[38;5;241m=\u001b[39m dist(v[i], v[j]) \u001b[38;5;241m+\u001b[39m dist(v[j], v[k]), \u001b[38;5;124m\"\u001b[39m\u001b[38;5;124mTriangle inequality violated\u001b[39m\u001b[38;5;124m\"\u001b[39m\n",
      "\u001b[0;31mAssertionError\u001b[0m: Triangle inequality violated"
     ]
    }
   ],
   "source": [
    "test_dist(notdist, v, w)"
   ]
  }
 ],
 "metadata": {
  "kernelspec": {
   "display_name": "jax",
   "language": "python",
   "name": "python3"
  },
  "language_info": {
   "codemirror_mode": {
    "name": "ipython",
    "version": 3
   },
   "file_extension": ".py",
   "mimetype": "text/x-python",
   "name": "python",
   "nbconvert_exporter": "python",
   "pygments_lexer": "ipython3",
   "version": "3.12.8"
  }
 },
 "nbformat": 4,
 "nbformat_minor": 2
}

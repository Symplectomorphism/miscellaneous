{
 "cells": [
  {
   "cell_type": "code",
   "execution_count": 11,
   "metadata": {},
   "outputs": [],
   "source": [
    "import numpy as np\n",
    "from itertools import permutations\n",
    "import copy\n",
    "import time\n",
    "\n",
    "import gymnasium as gym\n",
    "from gymnasium import spaces\n",
    "from gridworld.envs import GridWorldEnv, SiblingGridWorldEnv\n",
    "from gymnasium.wrappers import FlattenObservation\n",
    "from gridworld.wrappers import RelativePosition, InvertedReward\n",
    "from gymnasium.envs.registration import register"
   ]
  },
  {
   "cell_type": "code",
   "execution_count": 2,
   "metadata": {},
   "outputs": [],
   "source": [
    "# Define P[s][a] for the vanilla GridWorld\n",
    "P = {\n",
    "    0: {\n",
    "        0: [(1.0, 1, -1, False)],\n",
    "        1: [(1.0, 0, -1, False)],\n",
    "        2: [(1.0, 0, -1, False)],\n",
    "        3: [(1.0, 5, -1, False)],\n",
    "    },\n",
    "    1: {\n",
    "        0: [(1.0, 2, -1, False)],\n",
    "        1: [(1.0, 1, -1, False)],\n",
    "        2: [(1.0, 0, -1, False)],\n",
    "        3: [(1.0, 6, -1, False)],\n",
    "    },\n",
    "    2: {\n",
    "        0: [(1.0, 3, -1, False)],\n",
    "        1: [(1.0, 2, -1, False)],\n",
    "        2: [(1.0, 1, -1, False)],\n",
    "        3: [(1.0, 7, -1, False)],\n",
    "    },\n",
    "    3: {\n",
    "        0: [(1.0, 4, -1, False)],\n",
    "        1: [(1.0, 3, -1, False)],\n",
    "        2: [(1.0, 2, -1, False)],\n",
    "        3: [(1.0, 8, -1, False)],\n",
    "    },\n",
    "    4: {\n",
    "        0: [(1.0, 4, -1, False)],\n",
    "        1: [(1.0, 4, -1, False)],\n",
    "        2: [(1.0, 3, -1, False)],\n",
    "        3: [(1.0, 9, -1, False)],\n",
    "    },\n",
    "    5: {\n",
    "        0: [(1.0, 6, -1, False)],\n",
    "        1: [(1.0, 0, -1, False)],\n",
    "        2: [(1.0, 5, -1, False)],\n",
    "        3: [(1.0, 10, -1, False)],\n",
    "    },\n",
    "    6: {\n",
    "        0: [(1.0, 7, -1, False)],\n",
    "        1: [(1.0, 1, -1, False)],\n",
    "        2: [(1.0, 5, -1, False)],\n",
    "        3: [(1.0, 11, -1, False)],\n",
    "    },\n",
    "    7: {\n",
    "        0: [(1.0, 8, -1, False)],\n",
    "        1: [(1.0, 2, -1, False)],\n",
    "        2: [(1.0, 6, -1, False)],\n",
    "        3: [(1.0, 12, -1, False)],\n",
    "    },\n",
    "    8: {\n",
    "        0: [(1.0, 9, -1, False)],\n",
    "        1: [(1.0, 3, -1, False)],\n",
    "        2: [(1.0, 7, -1, False)],\n",
    "        3: [(1.0, 13, -1, False)],\n",
    "    },\n",
    "    9: {\n",
    "        0: [(1.0, 9, -1, False)],\n",
    "        1: [(1.0, 4, -1, False)],\n",
    "        2: [(1.0, 8, -1, False)],\n",
    "        3: [(1.0, 14, -1, False)],\n",
    "    },\n",
    "    10: {\n",
    "        0: [(1.0, 11, -1, False)],\n",
    "        1: [(1.0, 5, -1, False)],\n",
    "        2: [(1.0, 10, -1, False)],\n",
    "        3: [(1.0, 15, -1, False)],\n",
    "    },\n",
    "    11: {\n",
    "        0: [(1.0, 12, -1, False)],\n",
    "        1: [(1.0, 6, -1, False)],\n",
    "        2: [(1.0, 10, -1, False)],\n",
    "        3: [(1.0, 16, -1, False)],\n",
    "    },\n",
    "    12: {\n",
    "        0: [(1.0, 13, -1, False)],\n",
    "        1: [(1.0, 7, -1, False)],\n",
    "        2: [(1.0, 11, -1, False)],\n",
    "        3: [(1.0, 17, -1, False)],\n",
    "    },\n",
    "    13: {\n",
    "        0: [(1.0, 14, -1, False)],\n",
    "        1: [(1.0, 8, -1, False)],\n",
    "        2: [(1.0, 12, -1, False)],\n",
    "        3: [(1.0, 18, -1, False)],\n",
    "    },\n",
    "    14: {\n",
    "        0: [(1.0, 14, -1, False)],\n",
    "        1: [(1.0, 9, -1, False)],\n",
    "        2: [(1.0, 13, -1, False)],\n",
    "        3: [(1.0, 19, -1, False)],\n",
    "    },\n",
    "    15: {\n",
    "        0: [(1.0, 16, -1, False)],\n",
    "        1: [(1.0, 10, -1, False)],\n",
    "        2: [(1.0, 15, -1, False)],\n",
    "        3: [(1.0, 20, -1, False)],\n",
    "    },\n",
    "    16: {\n",
    "        0: [(1.0, 17, -1, False)],\n",
    "        1: [(1.0, 11, -1, False)],\n",
    "        2: [(1.0, 15, -1, False)],\n",
    "        3: [(1.0, 21, -1, False)],\n",
    "    },\n",
    "    17: {\n",
    "        0: [(1.0, 18, -1, False)],\n",
    "        1: [(1.0, 12, -1, False)],\n",
    "        2: [(1.0, 16, -1, False)],\n",
    "        3: [(1.0, 22, -1, False)],\n",
    "    },\n",
    "    18: {\n",
    "        0: [(1.0, 19, -1, False)],\n",
    "        1: [(1.0, 13, -1, False)],\n",
    "        2: [(1.0, 17, -1, False)],\n",
    "        3: [(1.0, 23, -1, False)],\n",
    "    },\n",
    "    19: {\n",
    "        0: [(1.0, 19, -1, False)],\n",
    "        1: [(1.0, 14, -1, False)],\n",
    "        2: [(1.0, 18, -1, False)],\n",
    "        3: [(1.0, 24, -1, False)],\n",
    "    },\n",
    "    20: {\n",
    "        0: [(1.0, 21, -1, False)],\n",
    "        1: [(1.0, 15, -1, False)],\n",
    "        2: [(1.0, 20, -1, False)],\n",
    "        3: [(1.0, 20, -1, False)],\n",
    "    },\n",
    "    21: {\n",
    "        0: [(1.0, 22, -1, False)],\n",
    "        1: [(1.0, 16, -1, False)],\n",
    "        2: [(1.0, 20, -1, False)],\n",
    "        3: [(1.0, 21, -1, False)],\n",
    "    },\n",
    "    22: {\n",
    "        0: [(1.0, 23, -1, False)],\n",
    "        1: [(1.0, 17, -1, False)],\n",
    "        2: [(1.0, 21, -1, False)],\n",
    "        3: [(1.0, 22, -1, False)],\n",
    "    },\n",
    "    23: {\n",
    "        0: [(1.0, 24, -1, True)],\n",
    "        1: [(1.0, 18, -1, False)],\n",
    "        2: [(1.0, 22, -1, False)],\n",
    "        3: [(1.0, 23, -1, False)],\n",
    "    },\n",
    "    24: {\n",
    "        0: [(1.0, 24, 0, True)],\n",
    "        1: [(1.0, 24, 0, True)],\n",
    "        2: [(1.0, 24, 0, True)],\n",
    "        3: [(1.0, 24, 0, True)],\n",
    "    },\n",
    "}"
   ]
  },
  {
   "cell_type": "code",
   "execution_count": 3,
   "metadata": {},
   "outputs": [],
   "source": [
    "def value_iteration(P, gamma=1.0, theta=1e-10):\n",
    "    V = np.zeros(len(P), dtype=np.float64)\n",
    "    while True:\n",
    "        Q = np.zeros((len(P), len(P[0])), dtype=np.float64)\n",
    "        for s in range(len(P)):\n",
    "            for a in range(len(P[s])):\n",
    "                for prob, next_state, reward, done in P[s][a]:\n",
    "                    Q[s][a] += prob * (reward + gamma * V[next_state] * (not done))\n",
    "        if np.max(np.abs(V - np.max(Q, axis=1))) < theta:\n",
    "            break\n",
    "        V = np.max(Q, axis=1)\n",
    "    pi = lambda s: {s:a for s, a in enumerate(np.argmax(Q, axis=1))}[s]\n",
    "    return Q, V, pi"
   ]
  },
  {
   "cell_type": "code",
   "execution_count": 4,
   "metadata": {},
   "outputs": [],
   "source": [
    "def sibling():\n",
    "    env = SiblingGridWorldEnv(P)\n",
    "#     env = RelativePositionenv)\n",
    "    return env\n",
    "\n",
    "register(\n",
    "    id='SiblingGridWorld-v0',\n",
    "    entry_point=sibling,\n",
    "    max_episode_steps=300,\n",
    ")"
   ]
  },
  {
   "cell_type": "code",
   "execution_count": 12,
   "metadata": {},
   "outputs": [
    {
     "data": {
      "text/plain": [
       "array([ 3,  1, 14])"
      ]
     },
     "execution_count": 12,
     "metadata": {},
     "output_type": "execute_result"
    }
   ],
   "source": [
    "env = gym.make('SiblingGridWorld-v0')\n",
    "env = env.unwrapped\n",
    "env.render_mode = 'human'\n",
    "obs, info = env.reset()\n",
    "obs"
   ]
  },
  {
   "cell_type": "code",
   "execution_count": 13,
   "metadata": {},
   "outputs": [],
   "source": [
    "Q, V, pi = value_iteration(env.gw_P)"
   ]
  },
  {
   "cell_type": "code",
   "execution_count": 14,
   "metadata": {},
   "outputs": [],
   "source": [
    "for i in range(20):\n",
    "    obs, rew, done, trunc, info = env.step([pi(5*obs[1]+obs[0]), 0])\n",
    "    Q, V, pi = value_iteration(env.cur_P)\n",
    "    time.sleep(0.2)\n",
    "    if done:\n",
    "        break\n",
    "# obs, rew, done, trunc, info = env.step(np.array([1, 2]))\n",
    "# obs, rew, done, trunc, info"
   ]
  },
  {
   "cell_type": "code",
   "execution_count": 15,
   "metadata": {},
   "outputs": [],
   "source": [
    "env.close()"
   ]
  },
  {
   "cell_type": "code",
   "execution_count": 10,
   "metadata": {},
   "outputs": [
    {
     "data": {
      "text/plain": [
       "array([1, 2])"
      ]
     },
     "execution_count": 10,
     "metadata": {},
     "output_type": "execute_result"
    }
   ],
   "source": [
    "rng = np.random.default_rng()\n",
    "rng.integers(0, 5, size=2, dtype=int)"
   ]
  }
 ],
 "metadata": {
  "kernelspec": {
   "display_name": "rl",
   "language": "python",
   "name": "python3"
  },
  "language_info": {
   "codemirror_mode": {
    "name": "ipython",
    "version": 3
   },
   "file_extension": ".py",
   "mimetype": "text/x-python",
   "name": "python",
   "nbconvert_exporter": "python",
   "pygments_lexer": "ipython3",
   "version": "3.11.9"
  }
 },
 "nbformat": 4,
 "nbformat_minor": 2
}

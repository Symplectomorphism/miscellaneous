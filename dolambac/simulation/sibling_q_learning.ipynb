{
 "cells": [
  {
   "cell_type": "code",
   "execution_count": 1,
   "metadata": {},
   "outputs": [],
   "source": [
    "import warnings; warnings.filterwarnings('ignore')\n",
    "\n",
    "import itertools\n",
    "import time\n",
    "import numpy as np\n",
    "from pprint import pprint\n",
    "\n",
    "from collections import defaultdict\n",
    "\n",
    "import gymnasium as gym\n",
    "from gridworld.envs import SiblingGridWorldEnv\n",
    "from gymnasium.envs.registration import register\n",
    "from gymnasium.wrappers import TimeLimit\n",
    "from tabulate import tabulate\n",
    "import tqdm as tqdm\n",
    "\n",
    "import torch\n",
    "from torch.utils.tensorboard import SummaryWriter\n",
    "\n",
    "import random\n",
    "import matplotlib\n",
    "import matplotlib.pyplot as plt\n",
    "SEEDS = (12, 34, 56, 78, 90)\n",
    "\n",
    "%matplotlib inline\n",
    "\n",
    "from utils import *\n",
    "from sibling_gw_agent import SiblingGWAgent"
   ]
  },
  {
   "cell_type": "code",
   "execution_count": 2,
   "metadata": {},
   "outputs": [],
   "source": [
    "plt.style.use('fivethirtyeight')\n",
    "params = {\n",
    "    'figure.figsize': (15, 8),\n",
    "    'font.size': 24,\n",
    "    'legend.fontsize': 20,\n",
    "    'axes.titlesize': 28,\n",
    "    'axes.labelsize': 24,\n",
    "    'xtick.labelsize': 20,\n",
    "    'ytick.labelsize': 20\n",
    "}\n",
    "plt.rcParams.update(params)\n",
    "np.set_printoptions(precision=3, suppress=True)\n",
    "\n",
    "layout = {\n",
    "    \"Training\": {\n",
    "        \"Q\": [\"Multiline\", [\"Q/zero\", \"Q/ten\"]],\n",
    "        # \"accuracy\": [\"Multiline\", [\"accuracy/train\", \"accuracy/validation\"]],\n",
    "    },\n",
    "}\n",
    "\n",
    "writer = SummaryWriter('runs/sibling_gw')\n",
    "writer.add_custom_scalars(layout)"
   ]
  },
  {
   "cell_type": "code",
   "execution_count": 3,
   "metadata": {},
   "outputs": [
    {
     "name": "stdout",
     "output_type": "stream",
     "text": [
      "19\n"
     ]
    }
   ],
   "source": [
    "def sibling():\n",
    "    env = SiblingGridWorldEnv(P_gridworld)\n",
    "    env = TimeLimit(env, max_episode_steps=100)\n",
    "#     env = RelativePositionenv)\n",
    "    return env\n",
    "\n",
    "register(\n",
    "    id='SiblingGridWorld-v0',\n",
    "    entry_point=sibling,\n",
    "    max_episode_steps=100,\n",
    ")\n",
    "\n",
    "env = gym.make('SiblingGridWorld-v0')\n",
    "env = env.unwrapped\n",
    "# env.render_mode = 'human'\n",
    "obs, info = env.reset(options={'randomize_world': True})\n",
    "print(env._true_world_idx)"
   ]
  },
  {
   "cell_type": "code",
   "execution_count": 4,
   "metadata": {},
   "outputs": [],
   "source": [
    "n_episodes = 20_000\n",
    "agent = SiblingGWAgent(env, gamma=1.0, \n",
    "            init_alpha=0.5, min_alpha=0.05, alpha_decay_ratio=0.5, \n",
    "            init_epsilon=1.0, min_epsilon=0.3, epsilon_decay_ratio=0.9, \n",
    "            n_episodes=n_episodes)\n",
    "# agent = SiblingGWAgent(env, min_epsilon=0.5, epsilon_decay_ratio=0.9, n_episodes=n_episodes)\n",
    "# agent.episode = 5000\n",
    "# agent.epsilons[agent.episode]"
   ]
  },
  {
   "cell_type": "code",
   "execution_count": 5,
   "metadata": {},
   "outputs": [
    {
     "name": "stdout",
     "output_type": "stream",
     "text": [
      "19\n"
     ]
    }
   ],
   "source": [
    "print(env._true_world_idx)"
   ]
  },
  {
   "cell_type": "code",
   "execution_count": 6,
   "metadata": {},
   "outputs": [
    {
     "name": "stderr",
     "output_type": "stream",
     "text": [
      "100%|██████████| 20000/20000 [00:44<00:00, 452.49it/s]\n"
     ]
    }
   ],
   "source": [
    "for episode in tqdm(range(agent.episode, agent.episode + n_episodes)):\n",
    "    agent.episode = episode\n",
    "    state, info = env.reset()\n",
    "    # if episode % 3_500 == 0:\n",
    "    #     state, info = env.reset(options={'randomize_world': True})\n",
    "    done = False\n",
    "\n",
    "    while not done:\n",
    "        action = agent.select_action(state)\n",
    "        action = np.unravel_index(action, env.action_space.nvec, order='F')\n",
    "        next_state, reward, terminated, truncated, info = env.step(action)\n",
    "        \n",
    "        # update the agent\n",
    "        agent.update(state, action, reward, terminated, next_state)\n",
    "\n",
    "        # update if the environment is done or truncated\n",
    "        done = terminated or truncated\n",
    "        state = next_state\n",
    "\n",
    "    if episode % 100 == 0:\n",
    "        writer.add_scalar(\"Q/zero\",\n",
    "            np.max(agent.Q[agent.state_multi_to_lin(np.array([2, 2, 0]))]), \n",
    "            episode\n",
    "        )\n",
    "        writer.add_scalar(\"Q/ten\",\n",
    "            np.max(agent.Q[agent.state_multi_to_lin(np.array([2, 2, 10]))]), \n",
    "            episode\n",
    "        )\n",
    "        \n",
    "\n",
    "writer.flush()\n",
    "writer.close()"
   ]
  },
  {
   "cell_type": "code",
   "execution_count": 19,
   "metadata": {},
   "outputs": [
    {
     "name": "stderr",
     "output_type": "stream",
     "text": [
      "100%|██████████| 999/999 [00:19<00:00, 52.24it/s]"
     ]
    },
    {
     "name": "stdout",
     "output_type": "stream",
     "text": [
      "Cumulative average estimate: 99.0\n"
     ]
    },
    {
     "name": "stderr",
     "output_type": "stream",
     "text": [
      "\n"
     ]
    }
   ],
   "source": [
    "rng = np.random.default_rng()\n",
    "env.render_mode = None\n",
    "# obs, info = env.reset(options={'randomize_world': True})\n",
    "env._agent_location = np.array([2, 2])\n",
    "obs[:-1] = env._agent_location\n",
    "avg_steps = 100\n",
    "alpha = 0.1\n",
    "running_avg = [10]\n",
    "max_ep_len = 100\n",
    "for e in tqdm(range(1, 1_000)):\n",
    "    for i in range(1, max_ep_len):\n",
    "        obs_idx = np.ravel_multi_index(obs, env.observation_space.nvec, order='F')\n",
    "        action = np.argmax(agent.Q[obs_idx])\n",
    "        action = np.unravel_index(action, env.action_space.nvec, order='F')\n",
    "\n",
    "        # # Trying out the vanilla greedy\n",
    "        # P = agent.env._update_P(0)\n",
    "        # Q_gw, V_gw, pi_gw = value_iteration(P)\n",
    "        # loc_idx = np.ravel_multi_index(obs[:-1], agent.env.observation_space.nvec[:-1], order='F')\n",
    "        # action = np.array([pi_gw(loc_idx), action[-1]])\n",
    "\n",
    "        obs, rew, done, trunc, info = env.step(action)\n",
    "        # print(obs, rew, info)\n",
    "        # time.sleep(0.05)\n",
    "        if done or i == max_ep_len - 1:\n",
    "            # print(f\"Finished in {i} steps.\")\n",
    "            avg_steps += 1/e * (i - avg_steps)\n",
    "            running_avg += [(1-alpha) * running_avg[-1] + alpha * avg_steps]\n",
    "            break\n",
    "    obs, info = env.reset()\n",
    "    env._agent_location = np.array([2, 2])\n",
    "    obs[:-1] = env._agent_location\n",
    "    # if e % 100 == 0:\n",
    "    #     print(f\"Episode {e} finished, current average estimate is {avg_steps}.\")\n",
    "\n",
    "print(f\"Cumulative average estimate: {avg_steps}\")"
   ]
  },
  {
   "cell_type": "code",
   "execution_count": 20,
   "metadata": {},
   "outputs": [
    {
     "data": {
      "text/plain": [
       "[<matplotlib.lines.Line2D at 0x7f4e40ea30d0>]"
      ]
     },
     "execution_count": 20,
     "metadata": {},
     "output_type": "execute_result"
    },
    {
     "data": {
      "image/png": "[encoded data removed]",
      "text/plain": [
       "<Figure size 1500x800 with 1 Axes>"
      ]
     },
     "metadata": {},
     "output_type": "display_data"
    }
   ],
   "source": [
    "plt.plot(running_avg)"
   ]
  },
  {
   "cell_type": "code",
   "execution_count": 9,
   "metadata": {},
   "outputs": [
    {
     "name": "stdout",
     "output_type": "stream",
     "text": [
      "287 -5.0000067 77\n"
     ]
    }
   ],
   "source": [
    "state = np.array([2, 2, 11])\n",
    "state_idx = np.ravel_multi_index(state, env.observation_space.nvec, order='F')\n",
    "print(state_idx, agent.Q[state_idx].max(), np.argmax(agent.Q[state_idx]))"
   ]
  },
  {
   "cell_type": "code",
   "execution_count": 10,
   "metadata": {},
   "outputs": [
    {
     "name": "stdout",
     "output_type": "stream",
     "text": [
      "19\n",
      "Finished in 4 steps.\n"
     ]
    }
   ],
   "source": [
    "# env.render_mode = 'human'\n",
    "obs, info = env.reset()\n",
    "env._agent_location = np.array([2, 2])\n",
    "obs[:-1] = env._agent_location\n",
    "# print(np.concatenate([env._agent_location, env._world_belief]))\n",
    "env._render_frame()\n",
    "# time.sleep(1.0)\n",
    "print(env._true_world_idx)\n",
    "\n",
    "for i in range(1,max_ep_len+1):\n",
    "    obs_idx = np.ravel_multi_index(obs, env.observation_space.nvec, order='F')\n",
    "    action_linear = np.argmax(agent.Q[obs_idx])\n",
    "    action = np.unravel_index(action_linear, env.action_space.nvec, order='F')\n",
    "    # print(obs_idx, np.concatenate([env._agent_location, env._world_belief]), action_linear, action, agent.Q[obs_idx].max())\n",
    "    obs, rew, done, trunc, info = env.step(action)\n",
    "    # print(obs, rew, info)\n",
    "    # time.sleep(0.05)\n",
    "    if done or trunc:\n",
    "        print(f\"Finished in {i} steps.\")\n",
    "        break"
   ]
  },
  {
   "cell_type": "code",
   "execution_count": 11,
   "metadata": {},
   "outputs": [],
   "source": [
    "# env.close()"
   ]
  },
  {
   "cell_type": "code",
   "execution_count": 12,
   "metadata": {},
   "outputs": [
    {
     "name": "stdout",
     "output_type": "stream",
     "text": [
      "(1, 19)\n",
      "(1, 19)\n",
      "(1, 19)\n",
      "(0, 22)\n"
     ]
    }
   ],
   "source": [
    "print(agent.act_lin_to_multi(np.argmax(agent.Q[agent.state_multi_to_lin(np.array([2, 2, 0]))])))\n",
    "print(agent.act_lin_to_multi(np.argmax(agent.Q[agent.state_multi_to_lin(np.array([2, 2, 7]))])))\n",
    "print(agent.act_lin_to_multi(np.argmax(agent.Q[agent.state_multi_to_lin(np.array([2, 2, 11]))])))\n",
    "print(agent.act_lin_to_multi(np.argmax(agent.Q[agent.state_multi_to_lin(np.array([2, 2, 20]))])))"
   ]
  },
  {
   "cell_type": "code",
   "execution_count": 13,
   "metadata": {},
   "outputs": [
    {
     "data": {
      "text/plain": [
       "19"
      ]
     },
     "execution_count": 13,
     "metadata": {},
     "output_type": "execute_result"
    }
   ],
   "source": [
    "env._true_world_idx"
   ]
  },
  {
   "cell_type": "code",
   "execution_count": 14,
   "metadata": {},
   "outputs": [
    {
     "data": {
      "text/plain": [
       "array([ -85.743,  -53.89 ,  -61.834,  -68.136,  -74.541,  -95.4  ,\n",
       "        -93.014,  -75.171,  -86.012,  -56.662,  -71.688,  -91.201,\n",
       "        -73.083,  -58.472,  -62.766,  -78.969,  -49.438,  -84.155,\n",
       "        -74.874,  -53.013,  -66.089,  -67.075,  -87.427,  -79.186,\n",
       "        -74.05 ,  -77.935,  -66.418,  -51.367,  -73.943,  -56.391,\n",
       "        -79.824,  -72.098,  -69.491,  -62.593,  -76.644,  -83.998,\n",
       "        -70.059,  -69.915,  -63.56 ,  -70.744,  -54.42 ,  -86.451,\n",
       "        -66.184,  -65.495,  -72.052,  -56.155,  -81.008,  -88.114,\n",
       "        -45.007,  -55.261,  -79.103,  -85.334,  -68.285, -100.   ,\n",
       "        -66.926,  -63.903,  -66.035,  -62.068,  -48.697,  -70.191,\n",
       "        -75.57 ,  -26.444,  -86.306,  -74.987,  -66.117,  -83.435,\n",
       "        -74.3  ,  -53.708,  -85.844,  -67.136,  -76.715,  -75.874,\n",
       "        -56.669,  -66.829, -100.   ,  -61.115,  -83.394,   -5.   ,\n",
       "        -82.392,  -69.842,  -69.497,  -87.289,  -75.072,  -63.065,\n",
       "        -59.828,  -57.726,  -77.086, -100.   ,  -50.569,  -45.006,\n",
       "        -70.632,  -69.762,  -70.089,  -95.25 ,  -67.287,  -90.867],\n",
       "      dtype=float32)"
      ]
     },
     "execution_count": 14,
     "metadata": {},
     "output_type": "execute_result"
    }
   ],
   "source": [
    "agent.Q[agent.state_multi_to_lin(np.array([2, 2, 0]))]"
   ]
  },
  {
   "cell_type": "code",
   "execution_count": null,
   "metadata": {},
   "outputs": [],
   "source": []
  }
 ],
 "metadata": {
  "kernelspec": {
   "display_name": "rl",
   "language": "python",
   "name": "python3"
  },
  "language_info": {
   "codemirror_mode": {
    "name": "ipython",
    "version": 3
   },
   "file_extension": ".py",
   "mimetype": "text/x-python",
   "name": "python",
   "nbconvert_exporter": "python",
   "pygments_lexer": "ipython3",
   "version": "3.11.9"
  }
 },
 "nbformat": 4,
 "nbformat_minor": 2
}

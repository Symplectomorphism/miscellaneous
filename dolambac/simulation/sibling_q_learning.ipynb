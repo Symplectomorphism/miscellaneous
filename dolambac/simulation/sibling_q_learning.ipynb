{
 "cells": [
  {
   "cell_type": "code",
   "execution_count": 1,
   "metadata": {},
   "outputs": [],
   "source": [
    "import warnings; warnings.filterwarnings('ignore')\n",
    "\n",
    "import itertools\n",
    "import time\n",
    "import numpy as np\n",
    "from pprint import pprint\n",
    "\n",
    "from collections import defaultdict\n",
    "\n",
    "import gymnasium as gym\n",
    "from gridworld.envs import SiblingGridWorldEnv\n",
    "from gymnasium.envs.registration import register\n",
    "from gymnasium.wrappers import TimeLimit\n",
    "from tabulate import tabulate\n",
    "import tqdm as tqdm\n",
    "\n",
    "import random\n",
    "import matplotlib\n",
    "import matplotlib.pyplot as plt\n",
    "SEEDS = (12, 34, 56, 78, 90)\n",
    "\n",
    "%matplotlib inline\n",
    "\n",
    "from utils import *\n",
    "from sibling_gw_agent import SiblingGWAgent"
   ]
  },
  {
   "cell_type": "code",
   "execution_count": 2,
   "metadata": {},
   "outputs": [],
   "source": [
    "plt.style.use('fivethirtyeight')\n",
    "params = {\n",
    "    'figure.figsize': (15, 8),\n",
    "    'font.size': 24,\n",
    "    'legend.fontsize': 20,\n",
    "    'axes.titlesize': 28,\n",
    "    'axes.labelsize': 24,\n",
    "    'xtick.labelsize': 20,\n",
    "    'ytick.labelsize': 20\n",
    "}\n",
    "plt.rcParams.update(params)\n",
    "np.set_printoptions(precision=3, suppress=True)"
   ]
  },
  {
   "cell_type": "code",
   "execution_count": 3,
   "metadata": {},
   "outputs": [],
   "source": [
    "def sibling():\n",
    "    env = SiblingGridWorldEnv(P_gridworld)\n",
    "    env = TimeLimit(env, max_episode_steps=100)\n",
    "#     env = RelativePositionenv)\n",
    "    return env\n",
    "\n",
    "register(\n",
    "    id='SiblingGridWorld-v0',\n",
    "    entry_point=sibling,\n",
    "    max_episode_steps=100,\n",
    ")\n",
    "\n",
    "env = gym.make('SiblingGridWorld-v0')\n",
    "env = env.unwrapped\n",
    "# env.render_mode = 'human'\n",
    "obs, info = env.reset()"
   ]
  },
  {
   "cell_type": "code",
   "execution_count": 4,
   "metadata": {},
   "outputs": [],
   "source": [
    "n_episodes = 20_000\n",
    "agent = SiblingGWAgent(env, min_epsilon=0.1, epsilon_decay_ratio=0.9, n_episodes=n_episodes)\n",
    "# agent = SiblingGWAgent(env, min_epsilon=0.5, epsilon_decay_ratio=0.9, n_episodes=n_episodes)\n",
    "# agent.episode = 5000\n",
    "# agent.epsilons[agent.episode]"
   ]
  },
  {
   "cell_type": "code",
   "execution_count": 5,
   "metadata": {},
   "outputs": [
    {
     "name": "stdout",
     "output_type": "stream",
     "text": [
      "[1 1 4]\n"
     ]
    },
    {
     "data": {
      "text/plain": [
       "30"
      ]
     },
     "execution_count": 5,
     "metadata": {},
     "output_type": "execute_result"
    }
   ],
   "source": [
    "print(obs)\n",
    "agent.select_action(obs)"
   ]
  },
  {
   "cell_type": "code",
   "execution_count": 6,
   "metadata": {},
   "outputs": [
    {
     "name": "stderr",
     "output_type": "stream",
     "text": [
      "100%|██████████| 20000/20000 [03:29<00:00, 95.66it/s] \n"
     ]
    }
   ],
   "source": [
    "for episode in tqdm(range(agent.episode, agent.episode + n_episodes)):\n",
    "    agent.episode = episode\n",
    "    state, info = env.reset()\n",
    "    done = False\n",
    "    while not done:\n",
    "        action = agent.select_action(state)\n",
    "        action = np.unravel_index(action, env.action_space.nvec, order='F')\n",
    "        next_state, reward, terminated, truncated, info = agent.env.step(action)\n",
    "        \n",
    "        # update the agent\n",
    "        agent.update(state, action, reward, terminated, next_state)\n",
    "\n",
    "        # update if the environment is done or truncated\n",
    "        done = terminated or truncated\n",
    "        state = next_state"
   ]
  },
  {
   "cell_type": "code",
   "execution_count": 7,
   "metadata": {},
   "outputs": [
    {
     "data": {
      "text/plain": [
       "array([2, 0, 3])"
      ]
     },
     "execution_count": 7,
     "metadata": {},
     "output_type": "execute_result"
    }
   ],
   "source": [
    "# env.render_mode = 'human'\n",
    "obs, info = env.reset()\n",
    "obs"
   ]
  },
  {
   "cell_type": "code",
   "execution_count": 8,
   "metadata": {},
   "outputs": [
    {
     "name": "stderr",
     "output_type": "stream",
     "text": [
      "  0%|          | 0/999 [00:00<?, ?it/s]"
     ]
    },
    {
     "name": "stderr",
     "output_type": "stream",
     "text": [
      "100%|██████████| 999/999 [00:28<00:00, 35.45it/s]"
     ]
    },
    {
     "name": "stdout",
     "output_type": "stream",
     "text": [
      "Cumulative average estimate: 89.09009009009006\n"
     ]
    },
    {
     "name": "stderr",
     "output_type": "stream",
     "text": [
      "\n"
     ]
    }
   ],
   "source": [
    "rng = np.random.default_rng()\n",
    "env.render_mode = None\n",
    "obs, info = env.reset()\n",
    "env._agent_location = np.array([2, 2])\n",
    "obs[:-1] = env._agent_location\n",
    "avg_steps = 100\n",
    "alpha = 0.1\n",
    "running_avg = [10]\n",
    "max_ep_len = 100\n",
    "for e in tqdm(range(1, 1_000)):\n",
    "    for i in range(1, max_ep_len):\n",
    "        obs_idx = np.ravel_multi_index(obs, env.observation_space.nvec, order='F')\n",
    "        action = np.argmax(agent.Q[obs_idx])\n",
    "        action = np.unravel_index(action, env.action_space.nvec, order='F')\n",
    "\n",
    "        # # Trying out the vanilla greedy\n",
    "        # P = agent.env._update_P(0)\n",
    "        # Q_gw, V_gw, pi_gw = value_iteration(P)\n",
    "        # loc_idx = np.ravel_multi_index(obs[:-1], agent.env.observation_space.nvec[:-1], order='F')\n",
    "        # action = np.array([pi_gw(loc_idx), action[-1]])\n",
    "\n",
    "        obs, rew, done, trunc, info = env.step(action)\n",
    "        # print(obs, rew, info)\n",
    "        # time.sleep(0.05)\n",
    "        if done or i == max_ep_len - 1:\n",
    "            # print(f\"Finished in {i} steps.\")\n",
    "            avg_steps += 1/e * (i - avg_steps)\n",
    "            running_avg += [(1-alpha) * running_avg[-1] + alpha * avg_steps]\n",
    "            break\n",
    "    obs, info = env.reset()\n",
    "    env._agent_location = np.array([2, 2])\n",
    "    obs[:-1] = env._agent_location\n",
    "    # if e % 100 == 0:\n",
    "    #     print(f\"Episode {e} finished, current average estimate is {avg_steps}.\")\n",
    "\n",
    "print(f\"Cumulative average estimate: {avg_steps}\")"
   ]
  },
  {
   "cell_type": "code",
   "execution_count": 9,
   "metadata": {},
   "outputs": [
    {
     "data": {
      "text/plain": [
       "[<matplotlib.lines.Line2D at 0x70506db1ecd0>]"
      ]
     },
     "execution_count": 9,
     "metadata": {},
     "output_type": "execute_result"
    },
    {
     "data": {
      "image/png": "[encoded data removed]",
      "text/plain": [
       "<Figure size 1500x800 with 1 Axes>"
      ]
     },
     "metadata": {},
     "output_type": "display_data"
    }
   ],
   "source": [
    "plt.plot(running_avg)"
   ]
  },
  {
   "cell_type": "code",
   "execution_count": 10,
   "metadata": {},
   "outputs": [
    {
     "name": "stdout",
     "output_type": "stream",
     "text": [
      "287 8826.928650642312 21\n"
     ]
    }
   ],
   "source": [
    "state = np.array([2, 2, 11])\n",
    "state_idx = np.ravel_multi_index(state, env.observation_space.nvec, order='F')\n",
    "print(state_idx, agent.Q[state_idx].max(), np.argmax(agent.Q[state_idx]))"
   ]
  },
  {
   "cell_type": "code",
   "execution_count": 11,
   "metadata": {},
   "outputs": [
    {
     "name": "stdout",
     "output_type": "stream",
     "text": [
      "[ 3  2 13] -1 {'distance': 3.0}\n",
      "[ 3  3 21] 1.0 {'distance': 2.0}\n",
      "[ 3  2 18] -1 {'distance': 3.0}\n",
      "[ 4  2 14] 1.0 {'distance': 2.0}\n",
      "[ 3  2 19] 0.0 {'distance': 3.0}\n",
      "[ 3  3 21] 1.0 {'distance': 2.0}\n",
      "[ 3  2 18] -1 {'distance': 3.0}\n",
      "[ 4  2 14] 1.0 {'distance': 2.0}\n",
      "[ 3  2 19] 0.0 {'distance': 3.0}\n",
      "[ 3  3 21] 1.0 {'distance': 2.0}\n",
      "[ 3  2 18] -1 {'distance': 3.0}\n",
      "[ 4  2 14] 1.0 {'distance': 2.0}\n",
      "[ 3  2 19] 0.0 {'distance': 3.0}\n",
      "[ 3  3 21] 1.0 {'distance': 2.0}\n",
      "[ 3  2 18] -1 {'distance': 3.0}\n",
      "[ 4  2 14] 1.0 {'distance': 2.0}\n",
      "[ 3  2 19] 0.0 {'distance': 3.0}\n",
      "[ 3  3 21] 1.0 {'distance': 2.0}\n",
      "[ 3  2 18] -1 {'distance': 3.0}\n",
      "[ 4  2 14] 1.0 {'distance': 2.0}\n",
      "[ 3  2 19] 0.0 {'distance': 3.0}\n",
      "[ 3  3 21] 1.0 {'distance': 2.0}\n",
      "[ 3  2 18] -1 {'distance': 3.0}\n",
      "[ 4  2 14] 1.0 {'distance': 2.0}\n",
      "[ 3  2 19] 0.0 {'distance': 3.0}\n",
      "[ 3  3 21] 1.0 {'distance': 2.0}\n",
      "[ 3  2 18] -1 {'distance': 3.0}\n",
      "[ 4  2 14] 1.0 {'distance': 2.0}\n",
      "[ 3  2 19] 0.0 {'distance': 3.0}\n",
      "[ 3  3 21] 1.0 {'distance': 2.0}\n",
      "[ 3  2 18] -1 {'distance': 3.0}\n",
      "[ 4  2 14] 1.0 {'distance': 2.0}\n",
      "[ 3  2 19] 0.0 {'distance': 3.0}\n",
      "[ 3  3 21] 1.0 {'distance': 2.0}\n",
      "[ 3  2 18] -1 {'distance': 3.0}\n",
      "[ 4  2 14] 1.0 {'distance': 2.0}\n",
      "[ 3  2 19] 0.0 {'distance': 3.0}\n",
      "[ 3  3 21] 1.0 {'distance': 2.0}\n",
      "[ 3  2 18] -1 {'distance': 3.0}\n",
      "[ 4  2 14] 1.0 {'distance': 2.0}\n",
      "[ 3  2 19] 0.0 {'distance': 3.0}\n",
      "[ 3  3 21] 1.0 {'distance': 2.0}\n",
      "[ 3  2 18] -1 {'distance': 3.0}\n",
      "[ 4  2 14] 1.0 {'distance': 2.0}\n",
      "[ 3  2 19] 0.0 {'distance': 3.0}\n",
      "[ 3  3 21] 1.0 {'distance': 2.0}\n",
      "[ 3  2 18] -1 {'distance': 3.0}\n",
      "[ 4  2 14] 1.0 {'distance': 2.0}\n",
      "[ 3  2 19] 0.0 {'distance': 3.0}\n",
      "[ 3  3 21] 1.0 {'distance': 2.0}\n",
      "[ 3  2 18] -1 {'distance': 3.0}\n",
      "[ 4  2 14] 1.0 {'distance': 2.0}\n",
      "[ 3  2 19] 0.0 {'distance': 3.0}\n",
      "[ 3  3 21] 1.0 {'distance': 2.0}\n",
      "[ 3  2 18] -1 {'distance': 3.0}\n",
      "[ 4  2 14] 1.0 {'distance': 2.0}\n",
      "[ 3  2 19] 0.0 {'distance': 3.0}\n",
      "[ 3  3 21] 1.0 {'distance': 2.0}\n",
      "[ 3  2 18] -1 {'distance': 3.0}\n",
      "[ 4  2 14] 1.0 {'distance': 2.0}\n",
      "[ 3  2 19] 0.0 {'distance': 3.0}\n",
      "[ 3  3 21] 1.0 {'distance': 2.0}\n",
      "[ 3  2 18] -1 {'distance': 3.0}\n",
      "[ 4  2 14] 1.0 {'distance': 2.0}\n",
      "[ 3  2 19] 0.0 {'distance': 3.0}\n",
      "[ 3  3 21] 1.0 {'distance': 2.0}\n",
      "[ 3  2 18] -1 {'distance': 3.0}\n",
      "[ 4  2 14] 1.0 {'distance': 2.0}\n",
      "[ 3  2 19] 0.0 {'distance': 3.0}\n",
      "[ 3  3 21] 1.0 {'distance': 2.0}\n",
      "[ 3  2 18] -1 {'distance': 3.0}\n",
      "[ 4  2 14] 1.0 {'distance': 2.0}\n",
      "[ 3  2 19] 0.0 {'distance': 3.0}\n",
      "[ 3  3 21] 1.0 {'distance': 2.0}\n",
      "[ 3  2 18] -1 {'distance': 3.0}\n",
      "[ 4  2 14] 1.0 {'distance': 2.0}\n",
      "[ 3  2 19] 0.0 {'distance': 3.0}\n",
      "[ 3  3 21] 1.0 {'distance': 2.0}\n",
      "[ 3  2 18] -1 {'distance': 3.0}\n",
      "[ 4  2 14] 1.0 {'distance': 2.0}\n",
      "[ 3  2 19] 0.0 {'distance': 3.0}\n",
      "[ 3  3 21] 1.0 {'distance': 2.0}\n",
      "[ 3  2 18] -1 {'distance': 3.0}\n",
      "[ 4  2 14] 1.0 {'distance': 2.0}\n",
      "[ 3  2 19] 0.0 {'distance': 3.0}\n",
      "[ 3  3 21] 1.0 {'distance': 2.0}\n",
      "[ 3  2 18] -1 {'distance': 3.0}\n",
      "[ 4  2 14] 1.0 {'distance': 2.0}\n",
      "[ 3  2 19] 0.0 {'distance': 3.0}\n",
      "[ 3  3 21] 1.0 {'distance': 2.0}\n",
      "[ 3  2 18] -1 {'distance': 3.0}\n",
      "[ 4  2 14] 1.0 {'distance': 2.0}\n",
      "[ 3  2 19] 0.0 {'distance': 3.0}\n",
      "[ 3  3 21] 1.0 {'distance': 2.0}\n",
      "[ 3  2 18] -1 {'distance': 3.0}\n",
      "[ 4  2 14] 1.0 {'distance': 2.0}\n",
      "[ 3  2 19] 0.0 {'distance': 3.0}\n",
      "[ 3  3 21] 1.0 {'distance': 2.0}\n",
      "[ 3  2 18] -1 {'distance': 3.0}\n"
     ]
    }
   ],
   "source": [
    "# env.render_mode = 'human'\n",
    "obs, info = env.reset()\n",
    "env._agent_location = np.array([2, 2])\n",
    "obs[:-1] = env._agent_location\n",
    "# print(np.concatenate([env._agent_location, env._world_belief]))\n",
    "env._render_frame()\n",
    "# time.sleep(1.0)\n",
    "for i in range(1,max_ep_len):\n",
    "    obs_idx = np.ravel_multi_index(obs, env.observation_space.nvec, order='F')\n",
    "    action_linear = np.argmax(agent.Q[obs_idx])\n",
    "    action = np.unravel_index(action_linear, env.action_space.nvec, order='F')\n",
    "    # print(obs_idx, np.concatenate([env._agent_location, env._world_belief]), action_linear, action, agent.Q[obs_idx].max())\n",
    "    obs, rew, done, trunc, info = env.step(action)\n",
    "    print(obs, rew, info)\n",
    "    # time.sleep(0.05)\n",
    "    if done:\n",
    "        print(f\"Finished in {i} steps.\")\n",
    "        break"
   ]
  },
  {
   "cell_type": "code",
   "execution_count": 12,
   "metadata": {},
   "outputs": [],
   "source": [
    "# env.close()"
   ]
  },
  {
   "cell_type": "code",
   "execution_count": null,
   "metadata": {},
   "outputs": [],
   "source": []
  }
 ],
 "metadata": {
  "kernelspec": {
   "display_name": "rl",
   "language": "python",
   "name": "python3"
  },
  "language_info": {
   "codemirror_mode": {
    "name": "ipython",
    "version": 3
   },
   "file_extension": ".py",
   "mimetype": "text/x-python",
   "name": "python",
   "nbconvert_exporter": "python",
   "pygments_lexer": "ipython3",
   "version": "3.11.9"
  }
 },
 "nbformat": 4,
 "nbformat_minor": 2
}
